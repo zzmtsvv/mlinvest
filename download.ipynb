{
  "nbformat": 4,
  "nbformat_minor": 0,
  "metadata": {
    "colab": {
      "name": "download.ipynb",
      "provenance": [],
      "authorship_tag": "ABX9TyPIM6BXcpunF5Q7dvpuIh/H"
    },
    "kernelspec": {
      "name": "python3",
      "display_name": "Python 3"
    },
    "language_info": {
      "name": "python"
    }
  },
  "cells": [
    {
      "cell_type": "code",
      "source": [
        "! pip install yfinance"
      ],
      "metadata": {
        "id": "4ZsP2zklA47e"
      },
      "execution_count": null,
      "outputs": []
    },
    {
      "cell_type": "code",
      "execution_count": 3,
      "metadata": {
        "id": "4x6ayJep_A22"
      },
      "outputs": [],
      "source": [
        "import numpy as np \n",
        "import pandas as pd \n",
        "import matplotlib.pyplot as plt\n",
        "import matplotlib.dates as mdates\n",
        "%matplotlib inline\n",
        "import datetime as dt\n",
        "import time\n",
        "import yfinance as yf\n",
        "import os\n",
        "from os import listdir\n",
        "from os.path import isfile, join\n",
        "\n",
        "import warnings\n",
        "warnings.simplefilter(\"ignore\")"
      ]
    },
    {
      "cell_type": "code",
      "source": [
        "PATH = '...'\n",
        "start_date = \"2017-02-01\"\n",
        "end_date = \"2022-12-06\"\n",
        "start_date_dt = pd.to_datetime(start_date)\n",
        "end_date_dt = pd.to_datetime(end_date)"
      ],
      "metadata": {
        "id": "ou6U215sA2Ql"
      },
      "execution_count": 4,
      "outputs": []
    },
    {
      "cell_type": "markdown",
      "source": [
        "# **Get column data from csv**"
      ],
      "metadata": {
        "id": "eglfHwyeBckW"
      }
    },
    {
      "cell_type": "code",
      "source": [
        "def get_column_from_csv(file, col_name):\n",
        "    try:\n",
        "        df = pd.read_csv(file)\n",
        "    except FileNotFoundError:\n",
        "        print(\"File Doesn't Exist\")\n",
        "    else:\n",
        "        return df[col_name]"
      ],
      "metadata": {
        "id": "eu1glXmFBSlr"
      },
      "execution_count": 5,
      "outputs": []
    },
    {
      "cell_type": "markdown",
      "source": [
        "# **Save stock data to csv**"
      ],
      "metadata": {
        "id": "5ckDjFu6BiCX"
      }
    },
    {
      "cell_type": "code",
      "source": [
        "def save_from_yahoo(folder, ticker):\n",
        "  stock = yf.Ticker(ticker)\n",
        "\n",
        "  try:\n",
        "    print(\"Get Data for:\", ticker)\n",
        "    df = stock.history(period=\"5y\")\n",
        "    time.sleep(2)\n",
        "\n",
        "    the_file = folder + ticker.replace(\".\", \"_\") + '.csv'\n",
        "    print(the_file, \" Saved\")\n",
        "    df.to_csv(the_file)\n",
        "  except:\n",
        "    print(\"Couldn't Get Data for:\", ticker)"
      ],
      "metadata": {
        "id": "ekgYzuAmBXl5"
      },
      "execution_count": 6,
      "outputs": []
    }
  ]
}