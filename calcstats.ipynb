{
  "nbformat": 4,
  "nbformat_minor": 0,
  "metadata": {
    "colab": {
      "name": "calcstats.ipynb",
      "provenance": [],
      "authorship_tag": "ABX9TyN8W1aNf8qg35eOrSyXad3g",
      "include_colab_link": true
    },
    "kernelspec": {
      "name": "python3",
      "display_name": "Python 3"
    },
    "language_info": {
      "name": "python"
    }
  },
  "cells": [
    {
      "cell_type": "markdown",
      "metadata": {
        "id": "view-in-github",
        "colab_type": "text"
      },
      "source": [
        "<a href=\"https://colab.research.google.com/github/zzmtsvv/mlinvest/blob/main/calcstats.ipynb\" target=\"_parent\"><img src=\"https://colab.research.google.com/assets/colab-badge.svg\" alt=\"Open In Colab\"/></a>"
      ]
    },
    {
      "cell_type": "code",
      "source": [
        "! pip install yfinance"
      ],
      "metadata": {
        "id": "4ZsP2zklA47e"
      },
      "execution_count": null,
      "outputs": []
    },
    {
      "cell_type": "code",
      "execution_count": null,
      "metadata": {
        "id": "4x6ayJep_A22"
      },
      "outputs": [],
      "source": [
        "import numpy as np \n",
        "import pandas as pd \n",
        "import matplotlib.pyplot as plt\n",
        "import matplotlib.dates as mdates\n",
        "%matplotlib inline\n",
        "import datetime as dt\n",
        "import time\n",
        "import yfinance as yf\n",
        "import os\n",
        "from os import listdir\n",
        "from os.path import isfile, join\n",
        "\n",
        "import warnings\n",
        "warnings.simplefilter(\"ignore\")"
      ]
    },
    {
      "cell_type": "code",
      "source": [
        "PATH = '...'\n",
        "start_date = \"2017-02-01\"\n",
        "end_date = \"2022-12-06\"\n",
        "start_date_dt = pd.to_datetime(start_date)\n",
        "end_date_dt = pd.to_datetime(end_date)"
      ],
      "metadata": {
        "id": "ou6U215sA2Ql"
      },
      "execution_count": null,
      "outputs": []
    },
    {
      "cell_type": "markdown",
      "source": [
        "# **Get DataFrame from csv**"
      ],
      "metadata": {
        "id": "eglfHwyeBckW"
      }
    },
    {
      "cell_type": "code",
      "source": [
        "def get_stock_df_from_csv(ticker):\n",
        "    try:\n",
        "        df = pd.read_csv(PATH + ticker + '.csv', index_col=0)\n",
        "    except FileNotFoundError:\n",
        "        print(\"File Doesn't Exist\")\n",
        "    else:\n",
        "        return df"
      ],
      "metadata": {
        "id": "eu1glXmFBSlr"
      },
      "execution_count": null,
      "outputs": []
    },
    {
      "cell_type": "markdown",
      "source": [
        "# **Get all Stocks Downloaded in List**"
      ],
      "metadata": {
        "id": "5ckDjFu6BiCX"
      }
    },
    {
      "cell_type": "code",
      "source": [
        "files = [x for x in listdir(PATH) if isfile(join(PATH, x))]\n",
        "tickers = [os.path.splitext(x)[0] for x in files]\n",
        "tickers.sort()\n",
        "len(tickers)"
      ],
      "metadata": {
        "id": "ekgYzuAmBXl5"
      },
      "execution_count": null,
      "outputs": []
    },
    {
      "cell_type": "markdown",
      "source": [
        "## **Daily Returns**"
      ],
      "metadata": {
        "id": "4Y7LcwNyGBOm"
      }
    },
    {
      "cell_type": "code",
      "source": [
        "def add_daily_return_to_df(df):\n",
        "    df['daily_return'] = (df['Close'] / df['Close'].shift(1)) - 1\n",
        "    return df  "
      ],
      "metadata": {
        "id": "IWSwBTdDF_tS"
      },
      "execution_count": null,
      "outputs": []
    },
    {
      "cell_type": "markdown",
      "source": [
        "# **Cumulative Returns**"
      ],
      "metadata": {
        "id": "QUBjzTMJGL21"
      }
    },
    {
      "cell_type": "code",
      "source": [
        "def add_cum_return_to_df(df):\n",
        "    df['cum_return'] = (1 + df['daily_return']).cumprod()\n",
        "    return df"
      ],
      "metadata": {
        "id": "h5JJ5vwgGJhU"
      },
      "execution_count": 1,
      "outputs": []
    },
    {
      "cell_type": "markdown",
      "source": [
        "# **Bollinger Bands**"
      ],
      "metadata": {
        "id": "OFQDRM81GUWC"
      }
    },
    {
      "cell_type": "code",
      "source": [
        ""
      ],
      "metadata": {
        "id": "DDQF5Z3iGQNP"
      },
      "execution_count": null,
      "outputs": []
    }
  ]
}